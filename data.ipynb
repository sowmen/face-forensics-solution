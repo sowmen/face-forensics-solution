{
 "cells": [
  {
   "cell_type": "code",
   "execution_count": 1,
   "metadata": {},
   "outputs": [],
   "source": [
    "import pandas as pd\n",
    "import numpy as np\n",
    "import cv2\n",
    "import matplotlib.pyplot as plt\n",
    "from tqdm import tqdm\n",
    "import glob\n",
    "import os\n",
    "from pathlib import Path\n",
    "import json\n",
    "import random"
   ]
  },
  {
   "cell_type": "code",
   "execution_count": 5,
   "metadata": {},
   "outputs": [],
   "source": [
    "ORI_DIR = 'face_data\\\\original_sequences\\\\youtube\\\\c23\\\\videos'\n",
    "FAKE_DIR = [\n",
    "    'face_data\\\\manipulated_sequences\\\\Deepfakes\\\\c23\\\\videos',\n",
    "    'face_data\\\\manipulated_sequences\\\\FaceSwap\\\\c23\\\\videos',\n",
    "    'face_data\\\\manipulated_sequences\\\\NeuralTextures\\\\c23\\\\videos',\n",
    "]"
   ]
  },
  {
   "cell_type": "code",
   "execution_count": 6,
   "metadata": {},
   "outputs": [],
   "source": [
    "video_paths = [os.path.join(ORI_DIR,x) for x in os.listdir(ORI_DIR)]"
   ]
  },
  {
   "cell_type": "code",
   "execution_count": 35,
   "metadata": {},
   "outputs": [
    {
     "output_type": "execute_result",
     "data": {
      "text/plain": "['face_data\\\\manipulated_sequences\\\\NeuralTextures\\\\c23\\\\videos\\\\000_003.mp4',\n 'face_data\\\\manipulated_sequences\\\\NeuralTextures\\\\c23\\\\videos\\\\001_870.mp4',\n 'face_data\\\\manipulated_sequences\\\\NeuralTextures\\\\c23\\\\videos\\\\002_006.mp4',\n 'face_data\\\\manipulated_sequences\\\\NeuralTextures\\\\c23\\\\videos\\\\003_000.mp4',\n 'face_data\\\\manipulated_sequences\\\\NeuralTextures\\\\c23\\\\videos\\\\004_982.mp4']"
     },
     "metadata": {},
     "execution_count": 35
    }
   ],
   "source": [
    "nt_paths = [os.path.join(FAKE_DIR[2],x) for x in os.listdir(FAKE_DIR[2])]\n",
    "nt_paths[:5]"
   ]
  },
  {
   "cell_type": "code",
   "execution_count": 36,
   "metadata": {
    "tags": []
   },
   "outputs": [
    {
     "output_type": "stream",
     "name": "stderr",
     "text": "100%|██████████| 1000/1000 [00:09<00:00, 101.11it/s]\n"
    }
   ],
   "source": [
    "dpf = {}\n",
    "for ori in tqdm(video_paths):\n",
    "    ori_name = Path(ori).name.split('.')[0]\n",
    "    for fake in nt_paths:\n",
    "        fake_name = Path(fake).name.split('.')[0].split('_')[0]\n",
    "        if(ori_name == fake_name):\n",
    "            dpf[ori] = fake"
   ]
  },
  {
   "cell_type": "code",
   "execution_count": 39,
   "metadata": {},
   "outputs": [],
   "source": [
    "for k,v in dpf.items():\n",
    "    df.loc[df['ori_path'] == k, 'neural_textures_path'] = v"
   ]
  },
  {
   "cell_type": "code",
   "execution_count": 40,
   "metadata": {
    "tags": []
   },
   "outputs": [
    {
     "output_type": "execute_result",
     "data": {
      "text/plain": "                                            ori_path  \\\n0  face_data\\original_sequences\\youtube\\c23\\video...   \n1  face_data\\original_sequences\\youtube\\c23\\video...   \n2  face_data\\original_sequences\\youtube\\c23\\video...   \n3  face_data\\original_sequences\\youtube\\c23\\video...   \n4  face_data\\original_sequences\\youtube\\c23\\video...   \n\n                                       deepfake_path  \\\n0  face_data\\manipulated_sequences\\Deepfakes\\c23\\...   \n1  face_data\\manipulated_sequences\\Deepfakes\\c23\\...   \n2  face_data\\manipulated_sequences\\Deepfakes\\c23\\...   \n3  face_data\\manipulated_sequences\\Deepfakes\\c23\\...   \n4  face_data\\manipulated_sequences\\Deepfakes\\c23\\...   \n\n                                       faceswap_path  \\\n0  face_data\\manipulated_sequences\\FaceSwap\\c23\\v...   \n1  face_data\\manipulated_sequences\\FaceSwap\\c23\\v...   \n2  face_data\\manipulated_sequences\\FaceSwap\\c23\\v...   \n3  face_data\\manipulated_sequences\\FaceSwap\\c23\\v...   \n4  face_data\\manipulated_sequences\\FaceSwap\\c23\\v...   \n\n                                neural_textures_path  \n0  face_data\\manipulated_sequences\\NeuralTextures...  \n1  face_data\\manipulated_sequences\\NeuralTextures...  \n2  face_data\\manipulated_sequences\\NeuralTextures...  \n3  face_data\\manipulated_sequences\\NeuralTextures...  \n4  face_data\\manipulated_sequences\\NeuralTextures...  ",
      "text/html": "<div>\n<style scoped>\n    .dataframe tbody tr th:only-of-type {\n        vertical-align: middle;\n    }\n\n    .dataframe tbody tr th {\n        vertical-align: top;\n    }\n\n    .dataframe thead th {\n        text-align: right;\n    }\n</style>\n<table border=\"1\" class=\"dataframe\">\n  <thead>\n    <tr style=\"text-align: right;\">\n      <th></th>\n      <th>ori_path</th>\n      <th>deepfake_path</th>\n      <th>faceswap_path</th>\n      <th>neural_textures_path</th>\n    </tr>\n  </thead>\n  <tbody>\n    <tr>\n      <th>0</th>\n      <td>face_data\\original_sequences\\youtube\\c23\\video...</td>\n      <td>face_data\\manipulated_sequences\\Deepfakes\\c23\\...</td>\n      <td>face_data\\manipulated_sequences\\FaceSwap\\c23\\v...</td>\n      <td>face_data\\manipulated_sequences\\NeuralTextures...</td>\n    </tr>\n    <tr>\n      <th>1</th>\n      <td>face_data\\original_sequences\\youtube\\c23\\video...</td>\n      <td>face_data\\manipulated_sequences\\Deepfakes\\c23\\...</td>\n      <td>face_data\\manipulated_sequences\\FaceSwap\\c23\\v...</td>\n      <td>face_data\\manipulated_sequences\\NeuralTextures...</td>\n    </tr>\n    <tr>\n      <th>2</th>\n      <td>face_data\\original_sequences\\youtube\\c23\\video...</td>\n      <td>face_data\\manipulated_sequences\\Deepfakes\\c23\\...</td>\n      <td>face_data\\manipulated_sequences\\FaceSwap\\c23\\v...</td>\n      <td>face_data\\manipulated_sequences\\NeuralTextures...</td>\n    </tr>\n    <tr>\n      <th>3</th>\n      <td>face_data\\original_sequences\\youtube\\c23\\video...</td>\n      <td>face_data\\manipulated_sequences\\Deepfakes\\c23\\...</td>\n      <td>face_data\\manipulated_sequences\\FaceSwap\\c23\\v...</td>\n      <td>face_data\\manipulated_sequences\\NeuralTextures...</td>\n    </tr>\n    <tr>\n      <th>4</th>\n      <td>face_data\\original_sequences\\youtube\\c23\\video...</td>\n      <td>face_data\\manipulated_sequences\\Deepfakes\\c23\\...</td>\n      <td>face_data\\manipulated_sequences\\FaceSwap\\c23\\v...</td>\n      <td>face_data\\manipulated_sequences\\NeuralTextures...</td>\n    </tr>\n  </tbody>\n</table>\n</div>"
     },
     "metadata": {},
     "execution_count": 40
    }
   ],
   "source": [
    "df.head()"
   ]
  },
  {
   "cell_type": "code",
   "execution_count": 20,
   "metadata": {
    "tags": []
   },
   "outputs": [
    {
     "output_type": "stream",
     "name": "stderr",
     "text": "1000it [00:03, 282.83it/s]\n"
    }
   ],
   "source": [
    "paths = []\n",
    "\n",
    "for _, row in tqdm(df.iterrows()):\n",
    "    ori_path = row['ori_path']\n",
    "    ori_name = 'ori_' + Path(ori_path).name.split('.')[0]\n",
    "    imgs = os.listdir(os.path.join('face_data','face_crops',ori_name))\n",
    "    \n",
    "    for f in imgs:\n",
    "        if f.endswith('txt'):\n",
    "            continue\n",
    "        label = 0\n",
    "        fold = row['fold']\n",
    "        video = ori_name\n",
    "        ori_vid = ori_name\n",
    "        paths.append([video, f, label, ori_vid, int(f.split(\"_\")[0]), fold])\n",
    "   \n",
    "\n",
    "    deepfake_path = row['deepfake_path']\n",
    "    deepfake_name = 'deepfake_' + Path(deepfake_path).name.split('.')[0]\n",
    "    imgs = os.listdir(os.path.join('face_data','face_crops',deepfake_name))\n",
    "    for f in imgs:\n",
    "        if f.endswith('txt'):\n",
    "            continue\n",
    "        label = 1\n",
    "        fold = row['fold']\n",
    "        video = deepfake_name\n",
    "        ori_vid = ori_name\n",
    "        paths.append([video, f, label, ori_vid, int(f.split(\"_\")[0]), fold])\n",
    "\n",
    "    faceswap_path = row['faceswap_path']\n",
    "    faceswap_name = 'faceswap_' + Path(faceswap_path).name.split('.')[0]\n",
    "    imgs = os.listdir(os.path.join('face_data','face_crops',faceswap_name))\n",
    "    for f in imgs:\n",
    "        if f.endswith('txt'):\n",
    "            continue\n",
    "        label = 1\n",
    "        fold = row['fold']\n",
    "        video = faceswap_name\n",
    "        ori_vid = ori_name\n",
    "        paths.append([video, f, label, ori_vid, int(f.split(\"_\")[0]), fold])\n",
    "\n",
    "    nt_path = row['neural_textures_path']\n",
    "    nt_name = 'nt_' + Path(nt_path).name.split('.')[0]\n",
    "    imgs = os.listdir(os.path.join('face_data','face_crops',nt_name))\n",
    "    for f in imgs:\n",
    "        if f.endswith('txt'):\n",
    "            continue\n",
    "        label = 1\n",
    "        fold = row['fold']\n",
    "        video = nt_name\n",
    "        ori_vid = ori_name\n",
    "        paths.append([video, f, label, ori_vid, int(f.split(\"_\")[0]), fold])\n",
    "    "
   ]
  },
  {
   "cell_type": "code",
   "execution_count": 24,
   "metadata": {},
   "outputs": [],
   "source": [
    "random.shuffle(paths)\n",
    "pd.DataFrame(paths, columns=[\"video\", \"file\", \"label\", \"original\", \"frame\", \"fold\"]).to_csv('folds.csv', index=False)"
   ]
  },
  {
   "cell_type": "code",
   "execution_count": 62,
   "metadata": {},
   "outputs": [
    {
     "output_type": "execute_result",
     "data": {
      "text/plain": "                                                path  label\n0  face_data\\original_sequences\\youtube\\c23\\video...      0\n1  face_data\\manipulated_sequences\\Deepfakes\\c23\\...      1\n2  face_data\\manipulated_sequences\\FaceSwap\\c23\\v...      1\n3  face_data\\manipulated_sequences\\NeuralTextures...      1\n4  face_data\\original_sequences\\youtube\\c23\\video...      0",
      "text/html": "<div>\n<style scoped>\n    .dataframe tbody tr th:only-of-type {\n        vertical-align: middle;\n    }\n\n    .dataframe tbody tr th {\n        vertical-align: top;\n    }\n\n    .dataframe thead th {\n        text-align: right;\n    }\n</style>\n<table border=\"1\" class=\"dataframe\">\n  <thead>\n    <tr style=\"text-align: right;\">\n      <th></th>\n      <th>path</th>\n      <th>label</th>\n    </tr>\n  </thead>\n  <tbody>\n    <tr>\n      <th>0</th>\n      <td>face_data\\original_sequences\\youtube\\c23\\video...</td>\n      <td>0</td>\n    </tr>\n    <tr>\n      <th>1</th>\n      <td>face_data\\manipulated_sequences\\Deepfakes\\c23\\...</td>\n      <td>1</td>\n    </tr>\n    <tr>\n      <th>2</th>\n      <td>face_data\\manipulated_sequences\\FaceSwap\\c23\\v...</td>\n      <td>1</td>\n    </tr>\n    <tr>\n      <th>3</th>\n      <td>face_data\\manipulated_sequences\\NeuralTextures...</td>\n      <td>1</td>\n    </tr>\n    <tr>\n      <th>4</th>\n      <td>face_data\\original_sequences\\youtube\\c23\\video...</td>\n      <td>0</td>\n    </tr>\n  </tbody>\n</table>\n</div>"
     },
     "metadata": {},
     "execution_count": 62
    }
   ],
   "source": [
    "labels_df = pd.DataFrame(labels.items(), columns=['path','label'])\n",
    "labels_df.head()"
   ]
  },
  {
   "cell_type": "code",
   "execution_count": 65,
   "metadata": {},
   "outputs": [],
   "source": []
  },
  {
   "cell_type": "code",
   "execution_count": 3,
   "metadata": {},
   "outputs": [
    {
     "output_type": "execute_result",
     "data": {
      "text/plain": "{'name': 'ori_000',\n 'vid_path': 'face_data\\\\original_sequences\\\\youtube\\\\c23\\\\videos\\\\000.mp4',\n 'bbox_path': 'face_data\\\\boxes\\\\000.json'}"
     },
     "metadata": {},
     "execution_count": 3
    }
   ],
   "source": [
    "with open(\"meta.json\", \"r\") as read_file:\n",
    "    data = json.load(read_file)\n",
    "data[0]"
   ]
  },
  {
   "cell_type": "code",
   "execution_count": 8,
   "metadata": {},
   "outputs": [],
   "source": [
    "from sklearn import model_selection\n",
    "\n",
    "df = pd.read_csv('metadata.csv').sample(frac=1).reset_index(drop=True)\n",
    "df['fold'] = -1\n",
    "kf = model_selection.KFold(n_splits=10)\n",
    "\n",
    "for f, (t_, v_) in enumerate(kf.split(X=df)):\n",
    "    df.loc[v_, 'fold'] = f"
   ]
  },
  {
   "cell_type": "code",
   "execution_count": 4,
   "metadata": {
    "tags": []
   },
   "outputs": [
    {
     "output_type": "execute_result",
     "data": {
      "text/plain": "fold  label\n0     1        14820\n      0         5718\n1     1        15131\n      0         5911\n2     1        14372\n      0         5564\n3     1        14598\n      0         5588\n4     1        14069\n      0         5269\n5     1        15033\n      0         5771\n6     1        14590\n      0         5704\n7     1        13785\n      0         5275\n8     1        13997\n      0         5423\n9     1        15117\n      0         5991\nName: label, dtype: int64"
     },
     "metadata": {},
     "execution_count": 4
    }
   ],
   "source": [
    "df = pd.read_csv('folds.csv')\n",
    "df.groupby('fold').label.value_counts()"
   ]
  },
  {
   "cell_type": "code",
   "execution_count": 10,
   "metadata": {},
   "outputs": [
    {
     "output_type": "execute_result",
     "data": {
      "text/plain": "fold  label\n2     1        14372\n      0         5564\n3     1        14598\n      0         5588\n4     1        14069\n      0         5269\n5     1        15033\n      0         5771\n6     1        14590\n      0         5704\n7     1        13785\n      0         5275\n8     1        13997\n      0         5423\n9     1        15117\n      0         5991\nName: label, dtype: int64"
     },
     "metadata": {},
     "execution_count": 10
    }
   ],
   "source": [
    "rows = df[~df['fold'].isin([0,1])]\n",
    "rows.groupby('fold').label.value_counts()"
   ]
  },
  {
   "cell_type": "code",
   "execution_count": 1,
   "metadata": {},
   "outputs": [],
   "source": [
    "import dlib \n",
    "detector = dlib.get_frontal_face_detector()\n",
    "predictor = dlib.shape_predictor('libs/shape_predictor_68_face_landmarks.dat')"
   ]
  },
  {
   "cell_type": "code",
   "execution_count": 48,
   "metadata": {
    "tags": []
   },
   "outputs": [
    {
     "output_type": "stream",
     "name": "stdout",
     "text": "real 44585 fakes 44585 mode train\n"
    }
   ],
   "source": [
    "from dataset import FFPP_Dataset\n",
    "import cv2\n",
    "import matplotlib.pyplot as plt\n",
    "\n",
    "train_data = FFPP_Dataset('ff_data', hardcore = True, oversample_real=True)\n",
    "train_data.reset(777)"
   ]
  },
  {
   "cell_type": "code",
   "execution_count": 36,
   "metadata": {},
   "outputs": [
    {
     "output_type": "execute_result",
     "data": {
      "text/plain": "<module 'manual_augmentation' from '/home/sowmitra/Documents/FF++/manual_augmentation.py'>"
     },
     "metadata": {},
     "execution_count": 36
    }
   ],
   "source": [
    "import importlib\n",
    "import manual_augmentation\n",
    "importlib.reload(manual_augmentation)"
   ]
  },
  {
   "cell_type": "code",
   "execution_count": 43,
   "metadata": {
    "tags": []
   },
   "outputs": [],
   "source": [
    "from manual_augmentation import blackout_convex_hull\n",
    "import numpy as np\n",
    "\n",
    "path = 'ff_data/face_crops/ori_724/170_0.png'\n",
    "image = cv2.imread(path, cv2.IMREAD_COLOR)\n",
    "image = cv2.cvtColor(image, cv2.COLOR_BGR2RGB)\n",
    "cp = np.copy(image)\n",
    "try:\n",
    "    blackout_convex_hull(cp, detector, predictor, 0)\n",
    "except Exception as e:\n",
    "    pass\n",
    "image = cp"
   ]
  },
  {
   "cell_type": "code",
   "execution_count": 47,
   "metadata": {
    "tags": []
   },
   "outputs": [
    {
     "output_type": "stream",
     "name": "stderr",
     "text": "Clipping input data to the valid range for imshow with RGB data ([0..1] for floats or [0..255] for integers).\n"
    },
    {
     "output_type": "display_data",
     "data": {
      "text/plain": "<Figure size 432x288 with 1 Axes>",
      "image/svg+xml": "<?xml version=\"1.0\" encoding=\"utf-8\" standalone=\"no\"?>\n<!DOCTYPE svg PUBLIC \"-//W3C//DTD SVG 1.1//EN\"\n  \"http://www.w3.org/Graphics/SVG/1.1/DTD/svg11.dtd\">\n<!-- Created with matplotlib (https://matplotlib.org/) -->\n<svg height=\"251.968882pt\" version=\"1.1\" viewBox=\"0 0 201.476731 251.968882\" width=\"201.476731pt\" xmlns=\"http://www.w3.org/2000/svg\" xmlns:xlink=\"http://www.w3.org/1999/xlink\">\n <defs>\n  <style type=\"text/css\">\n*{stroke-linecap:butt;stroke-linejoin:round;}\n  </style>\n </defs>\n <g id=\"figure_1\">\n  <g id=\"patch_1\">\n   <path d=\"M 0 251.968882 \nL 201.476731 251.968882 \nL 201.476731 0 \nL 0 0 \nz\n\" style=\"fill:none;\"/>\n  </g>\n  <g id=\"axes_1\">\n   <g id=\"patch_2\">\n    <path d=\"M 33.2875 228.090757 \nL 194.276731 228.090757 \nL 194.276731 10.650757 \nL 33.2875 10.650757 \nz\n\" style=\"fill:#ffffff;\"/>\n   </g>\n   <g clip-path=\"url(#p821ac71df6)\">\n    <image height=\"218\" id=\"image3fb48cccd9\" transform=\"scale(1 -1)translate(0 -218)\" width=\"161\" x=\"33.2875\" xlink:href=\"data:image/png;base64,\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\" y=\"-10.090757\"/>\n   </g>\n   <g id=\"matplotlib.axis_1\">\n    <g id=\"xtick_1\">\n     <g id=\"line2d_1\">\n      <defs>\n       <path d=\"M 0 0 \nL 0 3.5 \n\" id=\"m5cc530bbdf\" style=\"stroke:#000000;stroke-width:0.8;\"/>\n      </defs>\n      <g>\n       <use style=\"stroke:#000000;stroke-width:0.8;\" x=\"33.635962\" xlink:href=\"#m5cc530bbdf\" y=\"228.090757\"/>\n      </g>\n     </g>\n     <g id=\"text_1\">\n      <!-- 0 -->\n      <defs>\n       <path d=\"M 31.78125 66.40625 \nQ 24.171875 66.40625 20.328125 58.90625 \nQ 16.5 51.421875 16.5 36.375 \nQ 16.5 21.390625 20.328125 13.890625 \nQ 24.171875 6.390625 31.78125 6.390625 \nQ 39.453125 6.390625 43.28125 13.890625 \nQ 47.125 21.390625 47.125 36.375 \nQ 47.125 51.421875 43.28125 58.90625 \nQ 39.453125 66.40625 31.78125 66.40625 \nz\nM 31.78125 74.21875 \nQ 44.046875 74.21875 50.515625 64.515625 \nQ 56.984375 54.828125 56.984375 36.375 \nQ 56.984375 17.96875 50.515625 8.265625 \nQ 44.046875 -1.421875 31.78125 -1.421875 \nQ 19.53125 -1.421875 13.0625 8.265625 \nQ 6.59375 17.96875 6.59375 36.375 \nQ 6.59375 54.828125 13.0625 64.515625 \nQ 19.53125 74.21875 31.78125 74.21875 \nz\n\" id=\"DejaVuSans-48\"/>\n      </defs>\n      <g transform=\"translate(30.454712 242.689195)scale(0.1 -0.1)\">\n       <use xlink:href=\"#DejaVuSans-48\"/>\n      </g>\n     </g>\n    </g>\n    <g id=\"xtick_2\">\n     <g id=\"line2d_2\">\n      <g>\n       <use style=\"stroke:#000000;stroke-width:0.8;\" x=\"68.482115\" xlink:href=\"#m5cc530bbdf\" y=\"228.090757\"/>\n      </g>\n     </g>\n     <g id=\"text_2\">\n      <!-- 50 -->\n      <defs>\n       <path d=\"M 10.796875 72.90625 \nL 49.515625 72.90625 \nL 49.515625 64.59375 \nL 19.828125 64.59375 \nL 19.828125 46.734375 \nQ 21.96875 47.46875 24.109375 47.828125 \nQ 26.265625 48.1875 28.421875 48.1875 \nQ 40.625 48.1875 47.75 41.5 \nQ 54.890625 34.8125 54.890625 23.390625 \nQ 54.890625 11.625 47.5625 5.09375 \nQ 40.234375 -1.421875 26.90625 -1.421875 \nQ 22.3125 -1.421875 17.546875 -0.640625 \nQ 12.796875 0.140625 7.71875 1.703125 \nL 7.71875 11.625 \nQ 12.109375 9.234375 16.796875 8.0625 \nQ 21.484375 6.890625 26.703125 6.890625 \nQ 35.15625 6.890625 40.078125 11.328125 \nQ 45.015625 15.765625 45.015625 23.390625 \nQ 45.015625 31 40.078125 35.4375 \nQ 35.15625 39.890625 26.703125 39.890625 \nQ 22.75 39.890625 18.8125 39.015625 \nQ 14.890625 38.140625 10.796875 36.28125 \nz\n\" id=\"DejaVuSans-53\"/>\n      </defs>\n      <g transform=\"translate(62.119615 242.689195)scale(0.1 -0.1)\">\n       <use xlink:href=\"#DejaVuSans-53\"/>\n       <use x=\"63.623047\" xlink:href=\"#DejaVuSans-48\"/>\n      </g>\n     </g>\n    </g>\n    <g id=\"xtick_3\">\n     <g id=\"line2d_3\">\n      <g>\n       <use style=\"stroke:#000000;stroke-width:0.8;\" x=\"103.328269\" xlink:href=\"#m5cc530bbdf\" y=\"228.090757\"/>\n      </g>\n     </g>\n     <g id=\"text_3\">\n      <!-- 100 -->\n      <defs>\n       <path d=\"M 12.40625 8.296875 \nL 28.515625 8.296875 \nL 28.515625 63.921875 \nL 10.984375 60.40625 \nL 10.984375 69.390625 \nL 28.421875 72.90625 \nL 38.28125 72.90625 \nL 38.28125 8.296875 \nL 54.390625 8.296875 \nL 54.390625 0 \nL 12.40625 0 \nz\n\" id=\"DejaVuSans-49\"/>\n      </defs>\n      <g transform=\"translate(93.784519 242.689195)scale(0.1 -0.1)\">\n       <use xlink:href=\"#DejaVuSans-49\"/>\n       <use x=\"63.623047\" xlink:href=\"#DejaVuSans-48\"/>\n       <use x=\"127.246094\" xlink:href=\"#DejaVuSans-48\"/>\n      </g>\n     </g>\n    </g>\n    <g id=\"xtick_4\">\n     <g id=\"line2d_4\">\n      <g>\n       <use style=\"stroke:#000000;stroke-width:0.8;\" x=\"138.174423\" xlink:href=\"#m5cc530bbdf\" y=\"228.090757\"/>\n      </g>\n     </g>\n     <g id=\"text_4\">\n      <!-- 150 -->\n      <g transform=\"translate(128.630673 242.689195)scale(0.1 -0.1)\">\n       <use xlink:href=\"#DejaVuSans-49\"/>\n       <use x=\"63.623047\" xlink:href=\"#DejaVuSans-53\"/>\n       <use x=\"127.246094\" xlink:href=\"#DejaVuSans-48\"/>\n      </g>\n     </g>\n    </g>\n    <g id=\"xtick_5\">\n     <g id=\"line2d_5\">\n      <g>\n       <use style=\"stroke:#000000;stroke-width:0.8;\" x=\"173.020577\" xlink:href=\"#m5cc530bbdf\" y=\"228.090757\"/>\n      </g>\n     </g>\n     <g id=\"text_5\">\n      <!-- 200 -->\n      <defs>\n       <path d=\"M 19.1875 8.296875 \nL 53.609375 8.296875 \nL 53.609375 0 \nL 7.328125 0 \nL 7.328125 8.296875 \nQ 12.9375 14.109375 22.625 23.890625 \nQ 32.328125 33.6875 34.8125 36.53125 \nQ 39.546875 41.84375 41.421875 45.53125 \nQ 43.3125 49.21875 43.3125 52.78125 \nQ 43.3125 58.59375 39.234375 62.25 \nQ 35.15625 65.921875 28.609375 65.921875 \nQ 23.96875 65.921875 18.8125 64.3125 \nQ 13.671875 62.703125 7.8125 59.421875 \nL 7.8125 69.390625 \nQ 13.765625 71.78125 18.9375 73 \nQ 24.125 74.21875 28.421875 74.21875 \nQ 39.75 74.21875 46.484375 68.546875 \nQ 53.21875 62.890625 53.21875 53.421875 \nQ 53.21875 48.921875 51.53125 44.890625 \nQ 49.859375 40.875 45.40625 35.40625 \nQ 44.1875 33.984375 37.640625 27.21875 \nQ 31.109375 20.453125 19.1875 8.296875 \nz\n\" id=\"DejaVuSans-50\"/>\n      </defs>\n      <g transform=\"translate(163.476827 242.689195)scale(0.1 -0.1)\">\n       <use xlink:href=\"#DejaVuSans-50\"/>\n       <use x=\"63.623047\" xlink:href=\"#DejaVuSans-48\"/>\n       <use x=\"127.246094\" xlink:href=\"#DejaVuSans-48\"/>\n      </g>\n     </g>\n    </g>\n   </g>\n   <g id=\"matplotlib.axis_2\">\n    <g id=\"ytick_1\">\n     <g id=\"line2d_6\">\n      <defs>\n       <path d=\"M 0 0 \nL -3.5 0 \n\" id=\"mcb515b7fd5\" style=\"stroke:#000000;stroke-width:0.8;\"/>\n      </defs>\n      <g>\n       <use style=\"stroke:#000000;stroke-width:0.8;\" x=\"33.2875\" xlink:href=\"#mcb515b7fd5\" y=\"10.999219\"/>\n      </g>\n     </g>\n     <g id=\"text_6\">\n      <!-- 0 -->\n      <g transform=\"translate(19.925 14.798438)scale(0.1 -0.1)\">\n       <use xlink:href=\"#DejaVuSans-48\"/>\n      </g>\n     </g>\n    </g>\n    <g id=\"ytick_2\">\n     <g id=\"line2d_7\">\n      <g>\n       <use style=\"stroke:#000000;stroke-width:0.8;\" x=\"33.2875\" xlink:href=\"#mcb515b7fd5\" y=\"45.845373\"/>\n      </g>\n     </g>\n     <g id=\"text_7\">\n      <!-- 50 -->\n      <g transform=\"translate(13.5625 49.644591)scale(0.1 -0.1)\">\n       <use xlink:href=\"#DejaVuSans-53\"/>\n       <use x=\"63.623047\" xlink:href=\"#DejaVuSans-48\"/>\n      </g>\n     </g>\n    </g>\n    <g id=\"ytick_3\">\n     <g id=\"line2d_8\">\n      <g>\n       <use style=\"stroke:#000000;stroke-width:0.8;\" x=\"33.2875\" xlink:href=\"#mcb515b7fd5\" y=\"80.691526\"/>\n      </g>\n     </g>\n     <g id=\"text_8\">\n      <!-- 100 -->\n      <g transform=\"translate(7.2 84.490745)scale(0.1 -0.1)\">\n       <use xlink:href=\"#DejaVuSans-49\"/>\n       <use x=\"63.623047\" xlink:href=\"#DejaVuSans-48\"/>\n       <use x=\"127.246094\" xlink:href=\"#DejaVuSans-48\"/>\n      </g>\n     </g>\n    </g>\n    <g id=\"ytick_4\">\n     <g id=\"line2d_9\">\n      <g>\n       <use style=\"stroke:#000000;stroke-width:0.8;\" x=\"33.2875\" xlink:href=\"#mcb515b7fd5\" y=\"115.53768\"/>\n      </g>\n     </g>\n     <g id=\"text_9\">\n      <!-- 150 -->\n      <g transform=\"translate(7.2 119.336899)scale(0.1 -0.1)\">\n       <use xlink:href=\"#DejaVuSans-49\"/>\n       <use x=\"63.623047\" xlink:href=\"#DejaVuSans-53\"/>\n       <use x=\"127.246094\" xlink:href=\"#DejaVuSans-48\"/>\n      </g>\n     </g>\n    </g>\n    <g id=\"ytick_5\">\n     <g id=\"line2d_10\">\n      <g>\n       <use style=\"stroke:#000000;stroke-width:0.8;\" x=\"33.2875\" xlink:href=\"#mcb515b7fd5\" y=\"150.383834\"/>\n      </g>\n     </g>\n     <g id=\"text_10\">\n      <!-- 200 -->\n      <g transform=\"translate(7.2 154.183053)scale(0.1 -0.1)\">\n       <use xlink:href=\"#DejaVuSans-50\"/>\n       <use x=\"63.623047\" xlink:href=\"#DejaVuSans-48\"/>\n       <use x=\"127.246094\" xlink:href=\"#DejaVuSans-48\"/>\n      </g>\n     </g>\n    </g>\n    <g id=\"ytick_6\">\n     <g id=\"line2d_11\">\n      <g>\n       <use style=\"stroke:#000000;stroke-width:0.8;\" x=\"33.2875\" xlink:href=\"#mcb515b7fd5\" y=\"185.229988\"/>\n      </g>\n     </g>\n     <g id=\"text_11\">\n      <!-- 250 -->\n      <g transform=\"translate(7.2 189.029207)scale(0.1 -0.1)\">\n       <use xlink:href=\"#DejaVuSans-50\"/>\n       <use x=\"63.623047\" xlink:href=\"#DejaVuSans-53\"/>\n       <use x=\"127.246094\" xlink:href=\"#DejaVuSans-48\"/>\n      </g>\n     </g>\n    </g>\n    <g id=\"ytick_7\">\n     <g id=\"line2d_12\">\n      <g>\n       <use style=\"stroke:#000000;stroke-width:0.8;\" x=\"33.2875\" xlink:href=\"#mcb515b7fd5\" y=\"220.076142\"/>\n      </g>\n     </g>\n     <g id=\"text_12\">\n      <!-- 300 -->\n      <defs>\n       <path d=\"M 40.578125 39.3125 \nQ 47.65625 37.796875 51.625 33 \nQ 55.609375 28.21875 55.609375 21.1875 \nQ 55.609375 10.40625 48.1875 4.484375 \nQ 40.765625 -1.421875 27.09375 -1.421875 \nQ 22.515625 -1.421875 17.65625 -0.515625 \nQ 12.796875 0.390625 7.625 2.203125 \nL 7.625 11.71875 \nQ 11.71875 9.328125 16.59375 8.109375 \nQ 21.484375 6.890625 26.8125 6.890625 \nQ 36.078125 6.890625 40.9375 10.546875 \nQ 45.796875 14.203125 45.796875 21.1875 \nQ 45.796875 27.640625 41.28125 31.265625 \nQ 36.765625 34.90625 28.71875 34.90625 \nL 20.21875 34.90625 \nL 20.21875 43.015625 \nL 29.109375 43.015625 \nQ 36.375 43.015625 40.234375 45.921875 \nQ 44.09375 48.828125 44.09375 54.296875 \nQ 44.09375 59.90625 40.109375 62.90625 \nQ 36.140625 65.921875 28.71875 65.921875 \nQ 24.65625 65.921875 20.015625 65.03125 \nQ 15.375 64.15625 9.8125 62.3125 \nL 9.8125 71.09375 \nQ 15.4375 72.65625 20.34375 73.4375 \nQ 25.25 74.21875 29.59375 74.21875 \nQ 40.828125 74.21875 47.359375 69.109375 \nQ 53.90625 64.015625 53.90625 55.328125 \nQ 53.90625 49.265625 50.4375 45.09375 \nQ 46.96875 40.921875 40.578125 39.3125 \nz\n\" id=\"DejaVuSans-51\"/>\n      </defs>\n      <g transform=\"translate(7.2 223.875361)scale(0.1 -0.1)\">\n       <use xlink:href=\"#DejaVuSans-51\"/>\n       <use x=\"63.623047\" xlink:href=\"#DejaVuSans-48\"/>\n       <use x=\"127.246094\" xlink:href=\"#DejaVuSans-48\"/>\n      </g>\n     </g>\n    </g>\n   </g>\n   <g id=\"patch_3\">\n    <path d=\"M 33.2875 228.090757 \nL 33.2875 10.650757 \n\" style=\"fill:none;stroke:#000000;stroke-linecap:square;stroke-linejoin:miter;stroke-width:0.8;\"/>\n   </g>\n   <g id=\"patch_4\">\n    <path d=\"M 194.276731 228.090757 \nL 194.276731 10.650757 \n\" style=\"fill:none;stroke:#000000;stroke-linecap:square;stroke-linejoin:miter;stroke-width:0.8;\"/>\n   </g>\n   <g id=\"patch_5\">\n    <path d=\"M 33.2875 228.090757 \nL 194.276731 228.090757 \n\" style=\"fill:none;stroke:#000000;stroke-linecap:square;stroke-linejoin:miter;stroke-width:0.8;\"/>\n   </g>\n   <g id=\"patch_6\">\n    <path d=\"M 33.2875 10.650757 \nL 194.276731 10.650757 \n\" style=\"fill:none;stroke:#000000;stroke-linecap:square;stroke-linejoin:miter;stroke-width:0.8;\"/>\n   </g>\n  </g>\n </g>\n <defs>\n  <clipPath id=\"p821ac71df6\">\n   <rect height=\"217.44\" width=\"160.989231\" x=\"33.2875\" y=\"10.650757\"/>\n  </clipPath>\n </defs>\n</svg>\n",
      "image/png": "[encoded data removed]"
     },
     "metadata": {
      "needs_background": "light"
     }
    }
   ],
   "source": [
    "item = train_data[86760]\n",
    "plt.imshow(item['image'].permute(1,2,0))\n",
    "plt.show()"
   ]
  },
  {
   "cell_type": "code",
   "execution_count": 4,
   "metadata": {},
   "outputs": [],
   "source": [
    "import dlib \n",
    "detector = dlib.get_frontal_face_detector()\n",
    "predictor = dlib.shape_predictor('libs/shape_predictor_68_face_landmarks.dat')"
   ]
  },
  {
   "cell_type": "code",
   "execution_count": 15,
   "metadata": {
    "tags": []
   },
   "outputs": [
    {
     "output_type": "stream",
     "name": "stdout",
     "text": "rectangles[[(42, 113) (257, 328)]]\n"
    }
   ],
   "source": [
    "img = cv2.imread('ff_data/face_crops/nt_387_311/90_0.png')\n",
    "rect = detector(img)\n",
    "print(rect)"
   ]
  },
  {
   "cell_type": "code",
   "execution_count": 18,
   "metadata": {
    "tags": []
   },
   "outputs": [],
   "source": [
    "import timm\n",
    "\n",
    "model = timm.create_model('xception', pretrained=True, num_classes=1)"
   ]
  },
  {
   "cell_type": "code",
   "execution_count": 24,
   "metadata": {
    "tags": []
   },
   "outputs": [],
   "source": [
    "from torchsummary import summary\n",
    "import torch\n",
    "inp = torch.rand((1,3,224,224)).cuda()"
   ]
  },
  {
   "cell_type": "code",
   "execution_count": 11,
   "metadata": {},
   "outputs": [
    {
     "output_type": "execute_result",
     "data": {
      "text/plain": "array([[0.89 , 0.11 ],\n       [0.95 , 0.05 ],\n       [0.13 , 0.87 ],\n       [0.01 , 0.99 ],\n       [0.999, 0.001],\n       [0.75 , 0.25 ]])"
     },
     "metadata": {},
     "execution_count": 11
    }
   ],
   "source": [
    "a = np.array([0.11,0.05,0.87,0.99,0.001,0.25])\n",
    "a_reshaped = a.reshape(-1, 1)\n",
    "np.clip(np.concatenate((1.0 - a_reshaped, a_reshaped), axis=1), 0.0, 1.0)"
   ]
  }
 ],
 "metadata": {
  "language_info": {
   "codemirror_mode": {
    "name": "ipython",
    "version": 3
   },
   "file_extension": ".py",
   "mimetype": "text/x-python",
   "name": "python",
   "nbconvert_exporter": "python",
   "pygments_lexer": "ipython3",
   "version": "3.7.6-final"
  },
  "orig_nbformat": 2,
  "kernelspec": {
   "name": "python37664bitdfdcpy37envcondae7f725f417434a758cb09c01742b61a4",
   "display_name": "Python 3.7.6 64-bit ('dfdcpy37env': conda)"
  }
 },
 "nbformat": 4,
 "nbformat_minor": 2
}